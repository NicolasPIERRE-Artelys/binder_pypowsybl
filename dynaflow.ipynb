{
 "cells": [
  {
   "attachments": {},
   "cell_type": "markdown",
   "metadata": {},
   "source": [
    "# Running a loadflow with Dynaflow"
   ]
  },
  {
   "cell_type": "code",
   "execution_count": 4,
   "metadata": {},
   "outputs": [],
   "source": [
    "import pypowsybl as pp"
   ]
  },
  {
   "attachments": {},
   "cell_type": "markdown",
   "metadata": {},
   "source": [
    "This command will load the configuration given in ~/.itools/config.yml"
   ]
  },
  {
   "cell_type": "code",
   "execution_count": 5,
   "metadata": {},
   "outputs": [],
   "source": [
    "network = pp.network.load(\"./dynawaltz/IEEE14.iidm\")"
   ]
  },
  {
   "cell_type": "code",
   "execution_count": 6,
   "metadata": {},
   "outputs": [
    {
     "name": "stdout",
     "output_type": "stream",
     "text": [
      "['svcRegulationOn', 'shuntRegulationOn', 'automaticSlackBusOn', 'dsoVoltageLevel']\n"
     ]
    }
   ],
   "source": [
    "print(pp.loadflow.get_provider_parameters_names(\"DynaFlow\"))"
   ]
  },
  {
   "cell_type": "code",
   "execution_count": 7,
   "metadata": {},
   "outputs": [],
   "source": [
    "params = pp.loadflow.Parameters()\n",
    "# Not yet supported in the actual release of pypowsybl\n",
    "# But will be available with latest version of powsybl-dynawo\n",
    "params.provider_parameters = {\n",
    "    \"assemblingPath\": \"foo/bar\",\n",
    "    \"settingPath\": \"azdazd\"\n",
    "}"
   ]
  },
  {
   "attachments": {},
   "cell_type": "markdown",
   "metadata": {},
   "source": [
    "This will use the loaded `config.yml` file:\n",
    "- To find the actual installation of dynaflow-launcher\n",
    "- To find the default parameters of dynaflow"
   ]
  },
  {
   "cell_type": "code",
   "execution_count": 8,
   "metadata": {},
   "outputs": [],
   "source": [
    "results = pp.loadflow.run_ac(network, params, \"DynaFlow\")"
   ]
  },
  {
   "cell_type": "code",
   "execution_count": 9,
   "metadata": {},
   "outputs": [
    {
     "data": {
      "text/plain": [
       "[ComponentResult(connected_component_num=0, synchronous_component_num=0, status=CONVERGED, iteration_count=0, slack_bus_id='not-found', slack_bus_active_power_mismatch=0.0, distributed_active_power=nan)]"
      ]
     },
     "execution_count": 9,
     "metadata": {},
     "output_type": "execute_result"
    }
   ],
   "source": [
    "results"
   ]
  }
 ],
 "metadata": {
  "kernelspec": {
   "display_name": "dynawaltz_env",
   "language": "python",
   "name": "python3"
  },
  "language_info": {
   "codemirror_mode": {
    "name": "ipython",
    "version": 3
   },
   "file_extension": ".py",
   "mimetype": "text/x-python",
   "name": "python",
   "nbconvert_exporter": "python",
   "pygments_lexer": "ipython3",
   "version": "3.8.10"
  },
  "orig_nbformat": 4,
  "vscode": {
   "interpreter": {
    "hash": "f81a9eb39213ce4862019d3142f6f5e9206ab8aeab1c4f7e5ddd69d6bc311899"
   }
  }
 },
 "nbformat": 4,
 "nbformat_minor": 2
}
